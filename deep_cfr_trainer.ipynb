{
 "cells": [
  {
   "cell_type": "code",
   "execution_count": 1,
   "id": "4ee80f7e",
   "metadata": {},
   "outputs": [],
   "source": [
    "import rlcard\n",
    "from rlcard.utils import set_seed, get_device\n",
    "import numpy as np\n",
    "from deep_cfr_agent import DeepCFRAgent"
   ]
  },
  {
   "cell_type": "code",
   "execution_count": 2,
   "id": "9da908ad",
   "metadata": {},
   "outputs": [
    {
     "name": "stdout",
     "output_type": "stream",
     "text": [
      "--> Running on the GPU\n"
     ]
    }
   ],
   "source": [
    "# Environment setup\n",
    "set_seed(24)\n",
    "device = get_device()\n",
    "env = rlcard.make('no-limit-holdem', config={'game_num_players': 3})\n",
    "\n"
   ]
  },
  {
   "cell_type": "code",
   "execution_count": 3,
   "id": "c9e3c94a",
   "metadata": {},
   "outputs": [],
   "source": [
    "# Create agents\n",
    "agents = []\n",
    "for _ in range(3):\n",
    "    agent = DeepCFRAgent(\n",
    "        num_actions=52,   # Adjust to match your env action space\n",
    "        state_shape=(84,),  # Adjust to match your env state space\n",
    "        hidden_dim=128,\n",
    "        lr=0.001,\n",
    "        batch_size=64,\n",
    "        device= device  \n",
    "    )\n",
    "    agents.append(agent)\n",
    "\n",
    "env.set_agents(agents)"
   ]
  },
  {
   "cell_type": "code",
   "execution_count": 4,
   "id": "0004651b",
   "metadata": {},
   "outputs": [
    {
     "name": "stdout",
     "output_type": "stream",
     "text": [
      "=== Deep CFR Training Iteration 1/100 ===\n",
      "Sampling advantage memory for Player 0...\n"
     ]
    },
    {
     "ename": "KeyError",
     "evalue": "'payoffs'",
     "output_type": "error",
     "traceback": [
      "\u001b[1;31m---------------------------------------------------------------------------\u001b[0m",
      "\u001b[1;31mKeyError\u001b[0m                                  Traceback (most recent call last)",
      "Cell \u001b[1;32mIn[4], line 12\u001b[0m\n\u001b[0;32m     10\u001b[0m \u001b[38;5;28;01mfor\u001b[39;00m i, agent \u001b[38;5;129;01min\u001b[39;00m \u001b[38;5;28menumerate\u001b[39m(agents):\n\u001b[0;32m     11\u001b[0m     \u001b[38;5;28mprint\u001b[39m(\u001b[38;5;124mf\u001b[39m\u001b[38;5;124m\"\u001b[39m\u001b[38;5;124mSampling advantage memory for Player \u001b[39m\u001b[38;5;132;01m{\u001b[39;00mi\u001b[38;5;132;01m}\u001b[39;00m\u001b[38;5;124m...\u001b[39m\u001b[38;5;124m\"\u001b[39m)\n\u001b[1;32m---> 12\u001b[0m     agent\u001b[38;5;241m.\u001b[39msample_advantage_memory(env, num_traversals\u001b[38;5;241m=\u001b[39mnum_traversals_per_iter)\n\u001b[0;32m     14\u001b[0m \u001b[38;5;66;03m# --- Train Networks ---\u001b[39;00m\n\u001b[0;32m     15\u001b[0m \u001b[38;5;28;01mfor\u001b[39;00m i, agent \u001b[38;5;129;01min\u001b[39;00m \u001b[38;5;28menumerate\u001b[39m(agents):\n",
      "File \u001b[1;32mc:\\Users\\brend\\Desktop\\RL-Agent-for-Card-Games\\deep_cfr_agent.py:250\u001b[0m, in \u001b[0;36mDeepCFRAgent.sample_advantage_memory\u001b[1;34m(self, env, num_traversals)\u001b[0m\n\u001b[0;32m    248\u001b[0m \u001b[38;5;28;01mfor\u001b[39;00m _ \u001b[38;5;129;01min\u001b[39;00m \u001b[38;5;28mrange\u001b[39m(num_traversals):\n\u001b[0;32m    249\u001b[0m     state, player_id \u001b[38;5;241m=\u001b[39m env\u001b[38;5;241m.\u001b[39mreset()\n\u001b[1;32m--> 250\u001b[0m     \u001b[38;5;28mself\u001b[39m\u001b[38;5;241m.\u001b[39mtraverse_tree(env, state, player\u001b[38;5;241m=\u001b[39mplayer_id)\n",
      "File \u001b[1;32mc:\\Users\\brend\\Desktop\\RL-Agent-for-Card-Games\\deep_cfr_agent.py:227\u001b[0m, in \u001b[0;36mDeepCFRAgent.traverse_tree\u001b[1;34m(self, env, state, player)\u001b[0m\n\u001b[0;32m    225\u001b[0m     \u001b[38;5;66;03m# Fix: RLCard step() returns (next_state, next_player_id)\u001b[39;00m\n\u001b[0;32m    226\u001b[0m     next_state, next_player_id \u001b[38;5;241m=\u001b[39m env_copy\u001b[38;5;241m.\u001b[39mstep(action)\n\u001b[1;32m--> 227\u001b[0m     action_utils[action] \u001b[38;5;241m=\u001b[39m \u001b[38;5;28mself\u001b[39m\u001b[38;5;241m.\u001b[39mtraverse_tree(env_copy, next_state, player)\n\u001b[0;32m    229\u001b[0m node_util \u001b[38;5;241m=\u001b[39m torch\u001b[38;5;241m.\u001b[39mdot(strategy, action_utils)\n\u001b[0;32m    230\u001b[0m advantages \u001b[38;5;241m=\u001b[39m action_utils \u001b[38;5;241m-\u001b[39m node_util\n",
      "File \u001b[1;32mc:\\Users\\brend\\Desktop\\RL-Agent-for-Card-Games\\deep_cfr_agent.py:244\u001b[0m, in \u001b[0;36mDeepCFRAgent.traverse_tree\u001b[1;34m(self, env, state, player)\u001b[0m\n\u001b[0;32m    242\u001b[0m \u001b[38;5;66;03m# Fix: RLCard step() returns (next_state, next_player_id)\u001b[39;00m\n\u001b[0;32m    243\u001b[0m next_state, next_player_id \u001b[38;5;241m=\u001b[39m env\u001b[38;5;241m.\u001b[39mstep(action)\n\u001b[1;32m--> 244\u001b[0m \u001b[38;5;28;01mreturn\u001b[39;00m \u001b[38;5;28mself\u001b[39m\u001b[38;5;241m.\u001b[39mtraverse_tree(env, next_state, player)\n",
      "File \u001b[1;32mc:\\Users\\brend\\Desktop\\RL-Agent-for-Card-Games\\deep_cfr_agent.py:244\u001b[0m, in \u001b[0;36mDeepCFRAgent.traverse_tree\u001b[1;34m(self, env, state, player)\u001b[0m\n\u001b[0;32m    242\u001b[0m \u001b[38;5;66;03m# Fix: RLCard step() returns (next_state, next_player_id)\u001b[39;00m\n\u001b[0;32m    243\u001b[0m next_state, next_player_id \u001b[38;5;241m=\u001b[39m env\u001b[38;5;241m.\u001b[39mstep(action)\n\u001b[1;32m--> 244\u001b[0m \u001b[38;5;28;01mreturn\u001b[39;00m \u001b[38;5;28mself\u001b[39m\u001b[38;5;241m.\u001b[39mtraverse_tree(env, next_state, player)\n",
      "File \u001b[1;32mc:\\Users\\brend\\Desktop\\RL-Agent-for-Card-Games\\deep_cfr_agent.py:244\u001b[0m, in \u001b[0;36mDeepCFRAgent.traverse_tree\u001b[1;34m(self, env, state, player)\u001b[0m\n\u001b[0;32m    242\u001b[0m \u001b[38;5;66;03m# Fix: RLCard step() returns (next_state, next_player_id)\u001b[39;00m\n\u001b[0;32m    243\u001b[0m next_state, next_player_id \u001b[38;5;241m=\u001b[39m env\u001b[38;5;241m.\u001b[39mstep(action)\n\u001b[1;32m--> 244\u001b[0m \u001b[38;5;28;01mreturn\u001b[39;00m \u001b[38;5;28mself\u001b[39m\u001b[38;5;241m.\u001b[39mtraverse_tree(env, next_state, player)\n",
      "File \u001b[1;32mc:\\Users\\brend\\Desktop\\RL-Agent-for-Card-Games\\deep_cfr_agent.py:210\u001b[0m, in \u001b[0;36mDeepCFRAgent.traverse_tree\u001b[1;34m(self, env, state, player)\u001b[0m\n\u001b[0;32m    208\u001b[0m \u001b[38;5;28;01mdef\u001b[39;00m \u001b[38;5;21mtraverse_tree\u001b[39m(\u001b[38;5;28mself\u001b[39m, env, state, player):\n\u001b[0;32m    209\u001b[0m     \u001b[38;5;28;01mif\u001b[39;00m env\u001b[38;5;241m.\u001b[39mis_over():\n\u001b[1;32m--> 210\u001b[0m         \u001b[38;5;28;01mreturn\u001b[39;00m state[\u001b[38;5;124m'\u001b[39m\u001b[38;5;124mpayoffs\u001b[39m\u001b[38;5;124m'\u001b[39m][player]\n\u001b[0;32m    212\u001b[0m     current_player \u001b[38;5;241m=\u001b[39m env\u001b[38;5;241m.\u001b[39mget_player_id()\n\u001b[0;32m    214\u001b[0m     \u001b[38;5;28;01mif\u001b[39;00m current_player \u001b[38;5;241m==\u001b[39m player:\n",
      "\u001b[1;31mKeyError\u001b[0m: 'payoffs'"
     ]
    }
   ],
   "source": [
    "# ====== Training parameters ======\n",
    "num_iterations = 100\n",
    "num_traversals_per_iter = 100\n",
    "\n",
    "# ====== Training loop ======\n",
    "for iteration in range(num_iterations):\n",
    "    print(f\"=== Deep CFR Training Iteration {iteration+1}/{num_iterations} ===\")\n",
    "    \n",
    "    # --- Advantage Memory Sampling ---\n",
    "    for i, agent in enumerate(agents):\n",
    "        print(f\"Sampling advantage memory for Player {i}...\")\n",
    "        agent.sample_advantage_memory(env, num_traversals=num_traversals_per_iter)\n",
    "    \n",
    "    # --- Train Networks ---\n",
    "    for i, agent in enumerate(agents):\n",
    "        print(f\"Training networks for Player {i}...\")\n",
    "        agent.train_networks()\n",
    "    \n",
    "    # --- Periodic Evaluation ---\n",
    "    if (iteration + 1) % 10 == 0:\n",
    "        print(\"Evaluating agents...\")\n",
    "        payoffs = []\n",
    "        for _ in range(100):\n",
    "            trajectories, rewards = env.run(is_training=False)\n",
    "            payoffs.append(rewards)\n",
    "        \n",
    "        avg_payoffs = np.mean(payoffs, axis=0)\n",
    "        print(f\"Average payoffs after iteration {iteration+1}: {avg_payoffs}\")\n",
    "\n",
    "print(\"Training complete.\")"
   ]
  }
 ],
 "metadata": {
  "kernelspec": {
   "display_name": "pytorch",
   "language": "python",
   "name": "python3"
  },
  "language_info": {
   "codemirror_mode": {
    "name": "ipython",
    "version": 3
   },
   "file_extension": ".py",
   "mimetype": "text/x-python",
   "name": "python",
   "nbconvert_exporter": "python",
   "pygments_lexer": "ipython3",
   "version": "3.12.7"
  }
 },
 "nbformat": 4,
 "nbformat_minor": 5
}
